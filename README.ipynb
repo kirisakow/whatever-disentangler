{
 "cells": [
  {
   "attachments": {},
   "cell_type": "markdown",
   "metadata": {},
   "source": [
    "### Fixing legacy non-UTF-8 encodings with the existing tools may be disappointing:"
   ]
  },
  {
   "cell_type": "code",
   "execution_count": 1,
   "metadata": {},
   "outputs": [
    {
     "name": "stdout",
     "output_type": "stream",
     "text": [
      "{'encoding': 'utf-8', 'confidence': 0.99, 'language': ''}\n",
      "{'encoding': 'windows-1251', 'confidence': 0.99, 'language': 'Russian'}\n"
     ]
    }
   ],
   "source": [
    "import chardet\n",
    "\n",
    "s = \"Ìèñíèê, Íèêîëàé Áîðèñîâè÷\"\n",
    "bytes_default = s.encode()\n",
    "bytes_latin = s.encode('latin-1')\n",
    "\n",
    "print(chardet.detect(bytes_default))\n",
    "print(chardet.detect(bytes_latin))"
   ]
  },
  {
   "cell_type": "code",
   "execution_count": 2,
   "metadata": {},
   "outputs": [
    {
     "name": "stdout",
     "output_type": "stream",
     "text": [
      "{'encoding': 'utf-8', 'confidence': 0.938125, 'language': ''}\n"
     ]
    }
   ],
   "source": [
    "from chardet.universaldetector import UniversalDetector\n",
    "\n",
    "s = \"writer�s �nothing� virtue�\"\n",
    "detector = UniversalDetector()\n",
    "detector.feed(s.encode())\n",
    "detector.close()\n",
    "print(detector.result)"
   ]
  },
  {
   "cell_type": "code",
   "execution_count": 4,
   "metadata": {},
   "outputs": [
    {
     "name": "stdout",
     "output_type": "stream",
     "text": [
      "{'encoding': 'utf-8', 'confidence': 0.99, 'language': ''}\n"
     ]
    }
   ],
   "source": [
    "from chardet.universaldetector import UniversalDetector\n",
    "\n",
    "detector = UniversalDetector()\n",
    "detector.feed(\"ÃƒÂ©chÃƒÂ©ancier\".encode())\n",
    "detector.close()\n",
    "print(detector.result)"
   ]
  },
  {
   "attachments": {},
   "cell_type": "markdown",
   "metadata": {},
   "source": [
    "# Meet `whatever_disentangler`: a brute-force legacy encodings decoder\n",
    "\n",
    "* It is available as both a package (soon officially, let's hope so) and a self-hosted web service\n",
    "* It supports [as many encodings as Python itself](https://docs.python.org/3/library/codecs.html#standard-encodings)"
   ]
  },
  {
   "cell_type": "code",
   "execution_count": 1,
   "metadata": {},
   "outputs": [],
   "source": [
    "from whatever_disentangler import whatever_disentangler as wd\n",
    "\n",
    "# this one is an offline disentangler\n",
    "disentangler = wd.Disentangler()\n",
    "\n",
    "# this one is remote and calls a homemade REST API\n",
    "remote_disentangler = wd.RemoteDisentangler(endpoint='https://crac.ovh/fix_legacy_encoding')"
   ]
  },
  {
   "attachments": {},
   "cell_type": "markdown",
   "metadata": {},
   "source": [
    "#### Use case: When you already know what the expected (disentangled) string looks like"
   ]
  },
  {
   "cell_type": "code",
   "execution_count": 28,
   "metadata": {},
   "outputs": [
    {
     "name": "stdout",
     "output_type": "stream",
     "text": [
      "Result by RemoteDisentangler:\n",
      "'GocÅ‚awski' ('cp1252') -> 'Gocławski' ('utf_8')\n",
      "'GocÅ‚awski' ('cp1254') -> 'Gocławski' ('utf_8')\n",
      "'GocÅ‚awski' ('cp1257') -> 'Gocławski' ('utf_8')\n",
      "'GocÅ‚awski' ('cp1258') -> 'Gocławski' ('utf_8')\n",
      "\n",
      "Result by Disentangler:\n",
      "'GocÅ‚awski' ('cp1252') -> 'Gocławski' ('utf_8')\n",
      "'GocÅ‚awski' ('cp1252') -> 'Gocławski' ('utf_8_sig')\n",
      "'GocÅ‚awski' ('cp1254') -> 'Gocławski' ('utf_8')\n",
      "'GocÅ‚awski' ('cp1254') -> 'Gocławski' ('utf_8_sig')\n",
      "'GocÅ‚awski' ('cp1257') -> 'Gocławski' ('utf_8')\n",
      "'GocÅ‚awski' ('cp1257') -> 'Gocławski' ('utf_8_sig')\n",
      "'GocÅ‚awski' ('cp1258') -> 'Gocławski' ('utf_8')\n",
      "'GocÅ‚awski' ('cp1258') -> 'Gocławski' ('utf_8_sig')\n"
     ]
    }
   ],
   "source": [
    "expected_str = \"Gocławski\"\n",
    "garbled_str = \"GocÅ‚awski\"\n",
    "\n",
    "print(f\"Result by {type(remote_disentangler).__name__}:\")\n",
    "response_obj = await remote_disentangler.fetch_response(str_to_fix=garbled_str, expected_str=expected_str)\n",
    "remote_disentangler.flatten_legibly(response_obj)\n",
    "print()\n",
    "print(f\"Result by {type(disentangler).__name__}:\")\n",
    "result_generator = disentangler.disentangle(str_to_fix=garbled_str, expected_str=expected_str)\n",
    "disentangler.flatten_legibly(result_generator)"
   ]
  },
  {
   "cell_type": "code",
   "execution_count": 29,
   "metadata": {},
   "outputs": [
    {
     "name": "stdout",
     "output_type": "stream",
     "text": [
      "Result by RemoteDisentangler:\n",
      "'ContrÃ´le' ('cp1252') -> 'Contrôle' ('utf_8')\n",
      "'ContrÃ´le' ('cp1254') -> 'Contrôle' ('utf_8')\n",
      "'ContrÃ´le' ('latin_1') -> 'Contrôle' ('utf_8')\n",
      "'ContrÃ´le' ('iso8859_4') -> 'Contrôle' ('utf_8')\n",
      "'ContrÃ´le' ('iso8859_9') -> 'Contrôle' ('utf_8')\n",
      "\n",
      "Result by Disentangler:\n",
      "'ContrÃ´le' ('cp1252') -> 'Contrôle' ('utf_8')\n",
      "'ContrÃ´le' ('cp1252') -> 'Contrôle' ('utf_8_sig')\n",
      "'ContrÃ´le' ('cp1254') -> 'Contrôle' ('utf_8')\n",
      "'ContrÃ´le' ('cp1254') -> 'Contrôle' ('utf_8_sig')\n",
      "'ContrÃ´le' ('latin_1') -> 'Contrôle' ('utf_8')\n",
      "'ContrÃ´le' ('latin_1') -> 'Contrôle' ('utf_8_sig')\n",
      "'ContrÃ´le' ('iso8859_4') -> 'Contrôle' ('utf_8')\n",
      "'ContrÃ´le' ('iso8859_4') -> 'Contrôle' ('utf_8_sig')\n",
      "'ContrÃ´le' ('iso8859_9') -> 'Contrôle' ('utf_8')\n",
      "'ContrÃ´le' ('iso8859_9') -> 'Contrôle' ('utf_8_sig')\n"
     ]
    }
   ],
   "source": [
    "expected_str = \"Contrôle\"\n",
    "garbled_str = \"ContrÃ´le\"\n",
    "\n",
    "print(f\"Result by {type(remote_disentangler).__name__}:\")\n",
    "response_obj = await remote_disentangler.fetch_response(str_to_fix=garbled_str, expected_str=expected_str)\n",
    "remote_disentangler.flatten_legibly(response_obj)\n",
    "print()\n",
    "print(f\"Result by {type(disentangler).__name__}:\")\n",
    "result_generator = disentangler.disentangle(str_to_fix=garbled_str, expected_str=expected_str)\n",
    "disentangler.flatten_legibly(result_generator)"
   ]
  },
  {
   "cell_type": "code",
   "execution_count": 30,
   "metadata": {},
   "outputs": [
    {
     "name": "stdout",
     "output_type": "stream",
     "text": [
      "Result by RemoteDisentangler:\n",
      "Got an empty response [] (list) for the request 'https://crac.ovh/fix_legacy_encoding?str_to_fix=Ìèñíèê,+Íèêîëàé+Áîðèñîâè÷&expected_str=Мисник,+Николай+Борисович&recursivity_depth=1'\n",
      "\n",
      "Result by Disentangler:\n",
      "'Ìèñíèê, Íèêîëàé Áîðèñîâè÷' ('cp1252') -> 'Мисник, Николай Борисович' ('cp1251')\n",
      "'Ìèñíèê, Íèêîëàé Áîðèñîâè÷' ('cp1252') -> 'Мисник, Николай Борисович' ('kz1048')\n",
      "'Ìèñíèê, Íèêîëàé Áîðèñîâè÷' ('cp1252') -> 'Мисник, Николай Борисович' ('ptcp154')\n",
      "'Ìèñíèê, Íèêîëàé Áîðèñîâè÷' ('latin_1') -> 'Мисник, Николай Борисович' ('cp1251')\n",
      "'Ìèñíèê, Íèêîëàé Áîðèñîâè÷' ('latin_1') -> 'Мисник, Николай Борисович' ('kz1048')\n",
      "'Ìèñíèê, Íèêîëàé Áîðèñîâè÷' ('latin_1') -> 'Мисник, Николай Борисович' ('ptcp154')\n",
      "'Ìèñíèê, Íèêîëàé Áîðèñîâè÷' ('iso8859_15') -> 'Мисник, Николай Борисович' ('cp1251')\n",
      "'Ìèñíèê, Íèêîëàé Áîðèñîâè÷' ('iso8859_15') -> 'Мисник, Николай Борисович' ('kz1048')\n",
      "'Ìèñíèê, Íèêîëàé Áîðèñîâè÷' ('iso8859_15') -> 'Мисник, Николай Борисович' ('ptcp154')\n"
     ]
    }
   ],
   "source": [
    "expected_str = 'Мисник, Николай Борисович'\n",
    "garbled_str = 'Ìèñíèê, Íèêîëàé Áîðèñîâè÷'\n",
    "\n",
    "print(f\"Result by {type(remote_disentangler).__name__}:\")\n",
    "response_obj = await remote_disentangler.fetch_response(str_to_fix=garbled_str, expected_str=expected_str)\n",
    "remote_disentangler.flatten_legibly(response_obj)\n",
    "print()\n",
    "print(f\"Result by {type(disentangler).__name__}:\")\n",
    "result_generator = disentangler.disentangle(str_to_fix=garbled_str, expected_str=expected_str)\n",
    "disentangler.flatten_legibly(result_generator)"
   ]
  },
  {
   "attachments": {},
   "cell_type": "markdown",
   "metadata": {},
   "source": [
    "#### Use case: When you know which encodings you want to try, even without knowing what the expected string looks like"
   ]
  },
  {
   "cell_type": "code",
   "execution_count": 31,
   "metadata": {},
   "outputs": [],
   "source": [
    "selected_encodings = ['utf_8', 'cp1252', 'cp1251']\n",
    "garbled_str = [\"GocÅ‚awski\", \"ContrÃ´le\", 'Ìèñíèê, Íèêîëàé Áîðèñîâè÷', \"ÃƒÂ©chÃƒÂ©ancier\"]"
   ]
  },
  {
   "cell_type": "code",
   "execution_count": 32,
   "metadata": {},
   "outputs": [
    {
     "name": "stdout",
     "output_type": "stream",
     "text": [
      "Result by Disentangler:\n",
      "\n",
      "'GocÅ‚awski' ('utf_8') -> 'GocÃ…â€šawski' ('cp1252')\n",
      "'GocÅ‚awski' ('utf_8') -> 'GocГ…вЂљawski' ('cp1251')\n",
      "'GocÅ‚awski' ('cp1252') -> 'Gocławski' ('utf_8')\n",
      "'GocÅ‚awski' ('cp1252') -> 'GocЕ‚awski' ('cp1251')\n",
      "\n",
      "'ContrÃ´le' ('utf_8') -> 'ContrÃƒÂ´le' ('cp1252')\n",
      "'ContrÃ´le' ('utf_8') -> 'ContrГѓВґle' ('cp1251')\n",
      "'ContrÃ´le' ('cp1252') -> 'Contrôle' ('utf_8')\n",
      "'ContrÃ´le' ('cp1252') -> 'ContrГґle' ('cp1251')\n",
      "\n",
      "'Ìèñíèê, Íèêîëàé Áîðèñîâè÷' ('utf_8') -> 'ÃŒÃ¨Ã±Ã\\xadÃ¨Ãª, Ã�Ã¨ÃªÃ®Ã«Ã\\xa0Ã© Ã�Ã®Ã°Ã¨Ã±Ã®Ã¢Ã¨Ã·' ('cp1252')\n",
      "'Ìèñíèê, Íèêîëàé Áîðèñîâè÷' ('utf_8') -> 'ГЊГЁГ±Г\\xadГЁГЄ, ГЌГЁГЄГ®Г«Г\\xa0Г© ГЃГ®Г°ГЁГ±Г®ГўГЁГ·' ('cp1251')\n",
      "'Ìèñíèê, Íèêîëàé Áîðèñîâè÷' ('cp1252') -> '������, ������� ���������' ('utf_8')\n",
      "'Ìèñíèê, Íèêîëàé Áîðèñîâè÷' ('cp1252') -> 'Мисник, Николай Борисович' ('cp1251')\n",
      "\n",
      "'ÃƒÂ©chÃƒÂ©ancier' ('utf_8') -> 'ÃƒÆ’Ã‚Â©chÃƒÆ’Ã‚Â©ancier' ('cp1252')\n",
      "'ÃƒÂ©chÃƒÂ©ancier' ('utf_8') -> 'ГѓЖ’Г‚В©chГѓЖ’Г‚В©ancier' ('cp1251')\n",
      "'ÃƒÂ©chÃƒÂ©ancier' ('cp1252') -> 'Ã©chÃ©ancier' ('utf_8')\n",
      "'ÃƒÂ©chÃƒÂ©ancier' ('cp1252') -> 'ГѓВ©chГѓВ©ancier' ('cp1251')\n",
      "\n"
     ]
    }
   ],
   "source": [
    "print(f\"Result by {type(disentangler).__name__}:\", end='\\n\\n')\n",
    "for bad_str in garbled_str:\n",
    "    for enc_from in selected_encodings:\n",
    "        for enc_to in selected_encodings:\n",
    "            if enc_from == enc_to:\n",
    "                continue\n",
    "            result_generator = disentangler.disentangle(str_to_fix=bad_str, encoding_from=enc_from, encoding_to=enc_to)\n",
    "            disentangler.flatten_legibly(result_generator)\n",
    "    print()"
   ]
  },
  {
   "cell_type": "code",
   "execution_count": 33,
   "metadata": {},
   "outputs": [
    {
     "name": "stdout",
     "output_type": "stream",
     "text": [
      "Result by RemoteDisentangler:\n",
      "\n",
      "'GocÅ‚awski' ('utf_8') -> 'GocÃ…â€šawski' ('cp1252')\n",
      "'GocÅ‚awski' ('utf_8') -> 'GocГ…вЂљawski' ('cp1251')\n",
      "'GocÅ‚awski' ('cp1252') -> 'Gocławski' ('utf_8')\n",
      "'GocÅ‚awski' ('cp1252') -> 'GocЕ‚awski' ('cp1251')\n",
      "Got an empty response [] (list) for the request 'https://crac.ovh/fix_legacy_encoding?str_to_fix=GocÅ‚awski&encoding_from=cp1251&encoding_to=utf_8&recursivity_depth=1'\n",
      "Got an empty response [] (list) for the request 'https://crac.ovh/fix_legacy_encoding?str_to_fix=GocÅ‚awski&encoding_from=cp1251&encoding_to=cp1252&recursivity_depth=1'\n",
      "\n",
      "'ContrÃ´le' ('utf_8') -> 'ContrÃƒÂ´le' ('cp1252')\n",
      "'ContrÃ´le' ('utf_8') -> 'ContrГѓВґle' ('cp1251')\n",
      "'ContrÃ´le' ('cp1252') -> 'Contrôle' ('utf_8')\n",
      "'ContrÃ´le' ('cp1252') -> 'ContrГґle' ('cp1251')\n",
      "Got an empty response [] (list) for the request 'https://crac.ovh/fix_legacy_encoding?str_to_fix=ContrÃ´le&encoding_from=cp1251&encoding_to=utf_8&recursivity_depth=1'\n",
      "Got an empty response [] (list) for the request 'https://crac.ovh/fix_legacy_encoding?str_to_fix=ContrÃ´le&encoding_from=cp1251&encoding_to=cp1252&recursivity_depth=1'\n",
      "\n",
      "'Ìèñíèê, Íèêîëàé Áîðèñîâè÷' ('utf_8') -> 'ÃŒÃ¨Ã±Ã\\xadÃ¨Ãª, Ã�Ã¨ÃªÃ®Ã«Ã\\xa0Ã© Ã�Ã®Ã°Ã¨Ã±Ã®Ã¢Ã¨Ã·' ('cp1252')\n",
      "'Ìèñíèê, Íèêîëàé Áîðèñîâè÷' ('utf_8') -> 'ГЊГЁГ±Г\\xadГЁГЄ, ГЌГЁГЄГ®Г«Г\\xa0Г© ГЃГ®Г°ГЁГ±Г®ГўГЁГ·' ('cp1251')\n",
      "'Ìèñíèê, Íèêîëàé Áîðèñîâè÷' ('cp1252') -> '������, ������� ���������' ('utf_8')\n",
      "'Ìèñíèê, Íèêîëàé Áîðèñîâè÷' ('cp1252') -> 'Мисник, Николай Борисович' ('cp1251')\n",
      "Got an empty response [] (list) for the request 'https://crac.ovh/fix_legacy_encoding?str_to_fix=Ìèñíèê,+Íèêîëàé+Áîðèñîâè÷&encoding_from=cp1251&encoding_to=utf_8&recursivity_depth=1'\n",
      "Got an empty response [] (list) for the request 'https://crac.ovh/fix_legacy_encoding?str_to_fix=Ìèñíèê,+Íèêîëàé+Áîðèñîâè÷&encoding_from=cp1251&encoding_to=cp1252&recursivity_depth=1'\n",
      "\n",
      "'ÃƒÂ©chÃƒÂ©ancier' ('utf_8') -> 'ÃƒÆ’Ã‚Â©chÃƒÆ’Ã‚Â©ancier' ('cp1252')\n",
      "'ÃƒÂ©chÃƒÂ©ancier' ('utf_8') -> 'ГѓЖ’Г‚В©chГѓЖ’Г‚В©ancier' ('cp1251')\n",
      "'ÃƒÂ©chÃƒÂ©ancier' ('cp1252') -> 'Ã©chÃ©ancier' ('utf_8')\n",
      "'ÃƒÂ©chÃƒÂ©ancier' ('cp1252') -> 'ГѓВ©chГѓВ©ancier' ('cp1251')\n",
      "Got an empty response [] (list) for the request 'https://crac.ovh/fix_legacy_encoding?str_to_fix=ÃƒÂ©chÃƒÂ©ancier&encoding_from=cp1251&encoding_to=utf_8&recursivity_depth=1'\n",
      "Got an empty response [] (list) for the request 'https://crac.ovh/fix_legacy_encoding?str_to_fix=ÃƒÂ©chÃƒÂ©ancier&encoding_from=cp1251&encoding_to=cp1252&recursivity_depth=1'\n",
      "\n"
     ]
    }
   ],
   "source": [
    "print(f\"Result by {type(remote_disentangler).__name__}:\", end='\\n\\n')\n",
    "for bad_str in garbled_str:\n",
    "    for enc_from in selected_encodings:\n",
    "        for enc_to in selected_encodings:\n",
    "            if enc_from == enc_to:\n",
    "                continue\n",
    "            response_obj = await remote_disentangler.fetch_response(str_to_fix=bad_str, encoding_from=enc_from, encoding_to=enc_to)\n",
    "            remote_disentangler.flatten_legibly(response_obj)\n",
    "    print()"
   ]
  },
  {
   "attachments": {},
   "cell_type": "markdown",
   "metadata": {},
   "source": [
    "#### Use case: A tough case which needs two-step detangling\n",
    "\n",
    "Use recursive search to explore deeper"
   ]
  },
  {
   "cell_type": "code",
   "execution_count": 41,
   "metadata": {},
   "outputs": [],
   "source": [
    "garbled_str = \"ÃƒÂ©chÃƒÂ©ancier\"\n",
    "expected_str = \"échéancier\""
   ]
  },
  {
   "cell_type": "code",
   "execution_count": 42,
   "metadata": {},
   "outputs": [
    {
     "name": "stdout",
     "output_type": "stream",
     "text": [
      "Result by RemoteDisentangler:\n",
      "\n",
      "'ÃƒÂ©chÃƒÂ©ancier' ('cp850') -> 'ǟ��chǟ��ancier' ('utf_8')\n",
      "'ÃƒÂ©chÃƒÂ©ancier' ('cp858') -> 'ǟ��chǟ��ancier' ('utf_8')\n",
      "'ÃƒÂ©chÃƒÂ©ancier' ('cp1252') -> 'Ã©chÃ©ancier' ('utf_8')\n",
      "    -> 'Ã©chÃ©ancier' ('cp1252') -> 'échéancier' ('utf_8')\n",
      "    -> 'Ã©chÃ©ancier' ('cp1254') -> 'échéancier' ('utf_8')\n",
      "    -> 'Ã©chÃ©ancier' ('latin_1') -> 'échéancier' ('utf_8')\n",
      "    -> 'Ã©chÃ©ancier' ('iso8859_9') -> 'échéancier' ('utf_8')\n",
      "    -> 'Ã©chÃ©ancier' ('iso8859_14') -> 'échéancier' ('utf_8')\n",
      "    -> 'Ã©chÃ©ancier' ('iso8859_15') -> 'échéancier' ('utf_8')\n",
      "'ÃƒÂ©chÃƒÂ©ancier' ('cp1254') -> 'Ã©chÃ©ancier' ('utf_8')\n",
      "'ÃƒÂ©chÃƒÂ©ancier' ('gb18030') -> '�0�1�0�6�0�0�0�8ch�0�1�0�6�0�0�0�8ancier' ('utf_8')\n",
      "'ÃƒÂ©chÃƒÂ©ancier' ('mac_iceland') -> '���ch���ancier' ('utf_8')\n",
      "'ÃƒÂ©chÃƒÂ©ancier' ('mac_roman') -> '���ch���ancier' ('utf_8')\n",
      "'ÃƒÂ©chÃƒÂ©ancier' ('mac_turkish') -> '���ch���ancier' ('utf_8')\n",
      "'ÃƒÂ©chÃƒÂ©ancier' ('utf_32') -> '��\\x00\\x00�\\x00\\x00\\x00�\\x01\\x00\\x00�\\x00\\x00\\x00�\\x00\\x00\\x00c\\x00\\x00\\x00h\\x00\\x00\\x00�\\x00\\x00\\x00�\\x01\\x00\\x00�\\x00\\x00\\x00�\\x00\\x00\\x00a\\x00\\x00\\x00n\\x00\\x00\\x00c\\x00\\x00\\x00i\\x00\\x00\\x00e\\x00\\x00\\x00r\\x00\\x00\\x00' ('utf_8')\n",
      "'ÃƒÂ©chÃƒÂ©ancier' ('utf_32_be') -> '\\x00\\x00\\x00�\\x00\\x00\\x01�\\x00\\x00\\x00�\\x00\\x00\\x00�\\x00\\x00\\x00c\\x00\\x00\\x00h\\x00\\x00\\x00�\\x00\\x00\\x01�\\x00\\x00\\x00�\\x00\\x00\\x00�\\x00\\x00\\x00a\\x00\\x00\\x00n\\x00\\x00\\x00c\\x00\\x00\\x00i\\x00\\x00\\x00e\\x00\\x00\\x00r' ('utf_8')\n",
      "'ÃƒÂ©chÃƒÂ©ancier' ('utf_32_le') -> '�\\x00\\x00\\x00�\\x01\\x00\\x00�\\x00\\x00\\x00�\\x00\\x00\\x00c\\x00\\x00\\x00h\\x00\\x00\\x00�\\x00\\x00\\x00�\\x01\\x00\\x00�\\x00\\x00\\x00�\\x00\\x00\\x00a\\x00\\x00\\x00n\\x00\\x00\\x00c\\x00\\x00\\x00i\\x00\\x00\\x00e\\x00\\x00\\x00r\\x00\\x00\\x00' ('utf_8')\n",
      "'ÃƒÂ©chÃƒÂ©ancier' ('utf_16') -> '���\\x00�\\x01�\\x00�\\x00c\\x00h\\x00�\\x00�\\x01�\\x00�\\x00a\\x00n\\x00c\\x00i\\x00e\\x00r\\x00' ('utf_8')\n",
      "'ÃƒÂ©chÃƒÂ©ancier' ('utf_16_be') -> '\\x00�\\x01�\\x00�\\x00�\\x00c\\x00h\\x00�\\x01�\\x00�\\x00�\\x00a\\x00n\\x00c\\x00i\\x00e\\x00r' ('utf_8')\n",
      "'ÃƒÂ©chÃƒÂ©ancier' ('utf_16_le') -> '�\\x00�\\x01�\\x00�\\x00c\\x00h\\x00�\\x00�\\x01�\\x00�\\x00a\\x00n\\x00c\\x00i\\x00e\\x00r\\x00' ('utf_8')\n",
      "'ÃƒÂ©chÃƒÂ©ancier' ('utf_7') -> '+AMMBkgDCAKk-ch+AMMBkgDCAKk-ancier' ('utf_8')\n",
      "'ÃƒÂ©chÃƒÂ©ancier' ('utf_8_sig') -> '\\ufeffÃƒÂ©chÃƒÂ©ancier' ('utf_8')\n"
     ]
    }
   ],
   "source": [
    "print(f\"Result by {type(remote_disentangler).__name__}:\", end='\\n\\n')\n",
    "response_obj = await remote_disentangler.fetch_response(str_to_fix=garbled_str, expected_str=expected_str, encoding_to='utf_8', recursivity_depth=2)\n",
    "remote_disentangler.flatten_legibly(response_obj)"
   ]
  },
  {
   "cell_type": "code",
   "execution_count": 43,
   "metadata": {},
   "outputs": [
    {
     "name": "stdout",
     "output_type": "stream",
     "text": [
      "Result by Disentangler:\n",
      "\n",
      "'ÃƒÂ©chÃƒÂ©ancier' ('cp850') -> 'ǟ��chǟ��ancier' ('utf_8')\n",
      "'ÃƒÂ©chÃƒÂ©ancier' ('cp858') -> 'ǟ��chǟ��ancier' ('utf_8')\n",
      "'ÃƒÂ©chÃƒÂ©ancier' ('cp1252') -> 'Ã©chÃ©ancier' ('utf_8')\n",
      "    -> 'Ã©chÃ©ancier' ('cp1252') -> 'échéancier' ('utf_8')\n",
      "    -> 'Ã©chÃ©ancier' ('cp1254') -> 'échéancier' ('utf_8')\n",
      "    -> 'Ã©chÃ©ancier' ('latin_1') -> 'échéancier' ('utf_8')\n",
      "    -> 'Ã©chÃ©ancier' ('iso8859_9') -> 'échéancier' ('utf_8')\n",
      "    -> 'Ã©chÃ©ancier' ('iso8859_14') -> 'échéancier' ('utf_8')\n",
      "    -> 'Ã©chÃ©ancier' ('iso8859_15') -> 'échéancier' ('utf_8')\n",
      "'ÃƒÂ©chÃƒÂ©ancier' ('cp1254') -> 'Ã©chÃ©ancier' ('utf_8')\n",
      "'ÃƒÂ©chÃƒÂ©ancier' ('gb18030') -> '�0�1�0�6�0�0�0�8ch�0�1�0�6�0�0�0�8ancier' ('utf_8')\n",
      "'ÃƒÂ©chÃƒÂ©ancier' ('mac_iceland') -> '���ch���ancier' ('utf_8')\n",
      "'ÃƒÂ©chÃƒÂ©ancier' ('mac_roman') -> '���ch���ancier' ('utf_8')\n",
      "'ÃƒÂ©chÃƒÂ©ancier' ('mac_turkish') -> '���ch���ancier' ('utf_8')\n",
      "'ÃƒÂ©chÃƒÂ©ancier' ('utf_32') -> '��\\x00\\x00�\\x00\\x00\\x00�\\x01\\x00\\x00�\\x00\\x00\\x00�\\x00\\x00\\x00c\\x00\\x00\\x00h\\x00\\x00\\x00�\\x00\\x00\\x00�\\x01\\x00\\x00�\\x00\\x00\\x00�\\x00\\x00\\x00a\\x00\\x00\\x00n\\x00\\x00\\x00c\\x00\\x00\\x00i\\x00\\x00\\x00e\\x00\\x00\\x00r\\x00\\x00\\x00' ('utf_8')\n",
      "'ÃƒÂ©chÃƒÂ©ancier' ('utf_32_be') -> '\\x00\\x00\\x00�\\x00\\x00\\x01�\\x00\\x00\\x00�\\x00\\x00\\x00�\\x00\\x00\\x00c\\x00\\x00\\x00h\\x00\\x00\\x00�\\x00\\x00\\x01�\\x00\\x00\\x00�\\x00\\x00\\x00�\\x00\\x00\\x00a\\x00\\x00\\x00n\\x00\\x00\\x00c\\x00\\x00\\x00i\\x00\\x00\\x00e\\x00\\x00\\x00r' ('utf_8')\n",
      "'ÃƒÂ©chÃƒÂ©ancier' ('utf_32_le') -> '�\\x00\\x00\\x00�\\x01\\x00\\x00�\\x00\\x00\\x00�\\x00\\x00\\x00c\\x00\\x00\\x00h\\x00\\x00\\x00�\\x00\\x00\\x00�\\x01\\x00\\x00�\\x00\\x00\\x00�\\x00\\x00\\x00a\\x00\\x00\\x00n\\x00\\x00\\x00c\\x00\\x00\\x00i\\x00\\x00\\x00e\\x00\\x00\\x00r\\x00\\x00\\x00' ('utf_8')\n",
      "'ÃƒÂ©chÃƒÂ©ancier' ('utf_16') -> '���\\x00�\\x01�\\x00�\\x00c\\x00h\\x00�\\x00�\\x01�\\x00�\\x00a\\x00n\\x00c\\x00i\\x00e\\x00r\\x00' ('utf_8')\n",
      "'ÃƒÂ©chÃƒÂ©ancier' ('utf_16_be') -> '\\x00�\\x01�\\x00�\\x00�\\x00c\\x00h\\x00�\\x01�\\x00�\\x00�\\x00a\\x00n\\x00c\\x00i\\x00e\\x00r' ('utf_8')\n",
      "'ÃƒÂ©chÃƒÂ©ancier' ('utf_16_le') -> '�\\x00�\\x01�\\x00�\\x00c\\x00h\\x00�\\x00�\\x01�\\x00�\\x00a\\x00n\\x00c\\x00i\\x00e\\x00r\\x00' ('utf_8')\n",
      "'ÃƒÂ©chÃƒÂ©ancier' ('utf_7') -> '+AMMBkgDCAKk-ch+AMMBkgDCAKk-ancier' ('utf_8')\n",
      "'ÃƒÂ©chÃƒÂ©ancier' ('utf_8_sig') -> '\\ufeffÃƒÂ©chÃƒÂ©ancier' ('utf_8')\n"
     ]
    }
   ],
   "source": [
    "print(f\"Result by {type(disentangler).__name__}:\", end='\\n\\n')\n",
    "result_generator = disentangler.disentangle(str_to_fix=garbled_str, expected_str=expected_str, encoding_to='utf_8', recursivity_depth=2)\n",
    "disentangler.flatten_legibly(result_generator)"
   ]
  },
  {
   "attachments": {},
   "cell_type": "markdown",
   "metadata": {},
   "source": [
    "#### Still, sometimes you'll meet an unresolvable case:"
   ]
  },
  {
   "cell_type": "code",
   "execution_count": 45,
   "metadata": {},
   "outputs": [
    {
     "name": "stdout",
     "output_type": "stream",
     "text": [
      "Result by RemoteDisentangler:\n",
      "\n",
      "'writer�s �nothing� virtue�' ('gb18030') -> 'writer�1�7s �1�7nothing�1�7 virtue�1�7' ('utf_8')\n",
      "'writer�s �nothing� virtue�' ('utf_32') -> '��\\x00\\x00w\\x00\\x00\\x00r\\x00\\x00\\x00i\\x00\\x00\\x00t\\x00\\x00\\x00e\\x00\\x00\\x00r\\x00\\x00\\x00��\\x00\\x00s\\x00\\x00\\x00 \\x00\\x00\\x00��\\x00\\x00n\\x00\\x00\\x00o\\x00\\x00\\x00t\\x00\\x00\\x00h\\x00\\x00\\x00i\\x00\\x00\\x00n\\x00\\x00\\x00g\\x00\\x00\\x00��\\x00\\x00 \\x00\\x00\\x00v\\x00\\x00\\x00i\\x00\\x00\\x00r\\x00\\x00\\x00t\\x00\\x00\\x00u\\x00\\x00\\x00e\\x00\\x00\\x00��\\x00\\x00' ('utf_8')\n",
      "'writer�s �nothing� virtue�' ('utf_32_be') -> '\\x00\\x00\\x00w\\x00\\x00\\x00r\\x00\\x00\\x00i\\x00\\x00\\x00t\\x00\\x00\\x00e\\x00\\x00\\x00r\\x00\\x00��\\x00\\x00\\x00s\\x00\\x00\\x00 \\x00\\x00��\\x00\\x00\\x00n\\x00\\x00\\x00o\\x00\\x00\\x00t\\x00\\x00\\x00h\\x00\\x00\\x00i\\x00\\x00\\x00n\\x00\\x00\\x00g\\x00\\x00��\\x00\\x00\\x00 \\x00\\x00\\x00v\\x00\\x00\\x00i\\x00\\x00\\x00r\\x00\\x00\\x00t\\x00\\x00\\x00u\\x00\\x00\\x00e\\x00\\x00��' ('utf_8')\n",
      "'writer�s �nothing� virtue�' ('utf_32_le') -> 'w\\x00\\x00\\x00r\\x00\\x00\\x00i\\x00\\x00\\x00t\\x00\\x00\\x00e\\x00\\x00\\x00r\\x00\\x00\\x00��\\x00\\x00s\\x00\\x00\\x00 \\x00\\x00\\x00��\\x00\\x00n\\x00\\x00\\x00o\\x00\\x00\\x00t\\x00\\x00\\x00h\\x00\\x00\\x00i\\x00\\x00\\x00n\\x00\\x00\\x00g\\x00\\x00\\x00��\\x00\\x00 \\x00\\x00\\x00v\\x00\\x00\\x00i\\x00\\x00\\x00r\\x00\\x00\\x00t\\x00\\x00\\x00u\\x00\\x00\\x00e\\x00\\x00\\x00��\\x00\\x00' ('utf_8')\n",
      "'writer�s �nothing� virtue�' ('utf_16') -> '��w\\x00r\\x00i\\x00t\\x00e\\x00r\\x00��s\\x00 \\x00��n\\x00o\\x00t\\x00h\\x00i\\x00n\\x00g\\x00�� \\x00v\\x00i\\x00r\\x00t\\x00u\\x00e\\x00��' ('utf_8')\n",
      "'writer�s �nothing� virtue�' ('utf_16_be') -> '\\x00w\\x00r\\x00i\\x00t\\x00e\\x00r��\\x00s\\x00 ��\\x00n\\x00o\\x00t\\x00h\\x00i\\x00n\\x00g��\\x00 \\x00v\\x00i\\x00r\\x00t\\x00u\\x00e��' ('utf_8')\n",
      "'writer�s �nothing� virtue�' ('utf_16_le') -> 'w\\x00r\\x00i\\x00t\\x00e\\x00r\\x00��s\\x00 \\x00��n\\x00o\\x00t\\x00h\\x00i\\x00n\\x00g\\x00�� \\x00v\\x00i\\x00r\\x00t\\x00u\\x00e\\x00��' ('utf_8')\n",
      "'writer�s �nothing� virtue�' ('utf_7') -> 'writer+//0-s +//0-nothing+//0 virtue+//0-' ('utf_8')\n",
      "'writer�s �nothing� virtue�' ('utf_8_sig') -> '\\ufeffwriter�s �nothing� virtue�' ('utf_8')\n",
      "\n",
      "Result by Disentangler:\n",
      "\n",
      "'writer�s �nothing� virtue�' ('gb18030') -> 'writer�1�7s �1�7nothing�1�7 virtue�1�7' ('utf_8')\n",
      "'writer�s �nothing� virtue�' ('utf_32') -> '��\\x00\\x00w\\x00\\x00\\x00r\\x00\\x00\\x00i\\x00\\x00\\x00t\\x00\\x00\\x00e\\x00\\x00\\x00r\\x00\\x00\\x00��\\x00\\x00s\\x00\\x00\\x00 \\x00\\x00\\x00��\\x00\\x00n\\x00\\x00\\x00o\\x00\\x00\\x00t\\x00\\x00\\x00h\\x00\\x00\\x00i\\x00\\x00\\x00n\\x00\\x00\\x00g\\x00\\x00\\x00��\\x00\\x00 \\x00\\x00\\x00v\\x00\\x00\\x00i\\x00\\x00\\x00r\\x00\\x00\\x00t\\x00\\x00\\x00u\\x00\\x00\\x00e\\x00\\x00\\x00��\\x00\\x00' ('utf_8')\n",
      "'writer�s �nothing� virtue�' ('utf_32_be') -> '\\x00\\x00\\x00w\\x00\\x00\\x00r\\x00\\x00\\x00i\\x00\\x00\\x00t\\x00\\x00\\x00e\\x00\\x00\\x00r\\x00\\x00��\\x00\\x00\\x00s\\x00\\x00\\x00 \\x00\\x00��\\x00\\x00\\x00n\\x00\\x00\\x00o\\x00\\x00\\x00t\\x00\\x00\\x00h\\x00\\x00\\x00i\\x00\\x00\\x00n\\x00\\x00\\x00g\\x00\\x00��\\x00\\x00\\x00 \\x00\\x00\\x00v\\x00\\x00\\x00i\\x00\\x00\\x00r\\x00\\x00\\x00t\\x00\\x00\\x00u\\x00\\x00\\x00e\\x00\\x00��' ('utf_8')\n",
      "'writer�s �nothing� virtue�' ('utf_32_le') -> 'w\\x00\\x00\\x00r\\x00\\x00\\x00i\\x00\\x00\\x00t\\x00\\x00\\x00e\\x00\\x00\\x00r\\x00\\x00\\x00��\\x00\\x00s\\x00\\x00\\x00 \\x00\\x00\\x00��\\x00\\x00n\\x00\\x00\\x00o\\x00\\x00\\x00t\\x00\\x00\\x00h\\x00\\x00\\x00i\\x00\\x00\\x00n\\x00\\x00\\x00g\\x00\\x00\\x00��\\x00\\x00 \\x00\\x00\\x00v\\x00\\x00\\x00i\\x00\\x00\\x00r\\x00\\x00\\x00t\\x00\\x00\\x00u\\x00\\x00\\x00e\\x00\\x00\\x00��\\x00\\x00' ('utf_8')\n",
      "'writer�s �nothing� virtue�' ('utf_16') -> '��w\\x00r\\x00i\\x00t\\x00e\\x00r\\x00��s\\x00 \\x00��n\\x00o\\x00t\\x00h\\x00i\\x00n\\x00g\\x00�� \\x00v\\x00i\\x00r\\x00t\\x00u\\x00e\\x00��' ('utf_8')\n",
      "'writer�s �nothing� virtue�' ('utf_16_be') -> '\\x00w\\x00r\\x00i\\x00t\\x00e\\x00r��\\x00s\\x00 ��\\x00n\\x00o\\x00t\\x00h\\x00i\\x00n\\x00g��\\x00 \\x00v\\x00i\\x00r\\x00t\\x00u\\x00e��' ('utf_8')\n",
      "'writer�s �nothing� virtue�' ('utf_16_le') -> 'w\\x00r\\x00i\\x00t\\x00e\\x00r\\x00��s\\x00 \\x00��n\\x00o\\x00t\\x00h\\x00i\\x00n\\x00g\\x00�� \\x00v\\x00i\\x00r\\x00t\\x00u\\x00e\\x00��' ('utf_8')\n",
      "'writer�s �nothing� virtue�' ('utf_7') -> 'writer+//0-s +//0-nothing+//0 virtue+//0-' ('utf_8')\n",
      "'writer�s �nothing� virtue�' ('utf_8_sig') -> '\\ufeffwriter�s �nothing� virtue�' ('utf_8')\n"
     ]
    }
   ],
   "source": [
    "garbled_str = \"writer�s �nothing� virtue�\"\n",
    "expected_str = \"writer’s ‘nothing’ virtue—\"\n",
    "\n",
    "print(f\"Result by {type(remote_disentangler).__name__}:\", end='\\n\\n')\n",
    "response_obj = await remote_disentangler.fetch_response(str_to_fix=garbled_str, expected_str=expected_str, encoding_to='utf_8', recursivity_depth=2)\n",
    "remote_disentangler.flatten_legibly(response_obj)\n",
    "print()\n",
    "print(f\"Result by {type(disentangler).__name__}:\", end='\\n\\n')\n",
    "result_generator = disentangler.disentangle(str_to_fix=garbled_str, expected_str=expected_str, encoding_to='utf_8', recursivity_depth=2)\n",
    "disentangler.flatten_legibly(result_generator)"
   ]
  }
 ],
 "metadata": {
  "kernelspec": {
   "display_name": "Python 3",
   "language": "python",
   "name": "python3"
  },
  "language_info": {
   "codemirror_mode": {
    "name": "ipython",
    "version": 3
   },
   "file_extension": ".py",
   "mimetype": "text/x-python",
   "name": "python",
   "nbconvert_exporter": "python",
   "pygments_lexer": "ipython3",
   "version": "3.10.7 (main, Nov 24 2022, 19:45:47) [GCC 12.2.0]"
  },
  "vscode": {
   "interpreter": {
    "hash": "e7370f93d1d0cde622a1f8e1c04877d8463912d04d973331ad4851f04de6915a"
   }
  }
 },
 "nbformat": 4,
 "nbformat_minor": 4
}
